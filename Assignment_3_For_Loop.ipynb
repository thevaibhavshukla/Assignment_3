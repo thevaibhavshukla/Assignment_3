{
 "cells": [
  {
   "cell_type": "code",
   "execution_count": 1,
   "id": "3ce10fb2-1177-4e9e-8ff2-868e73958330",
   "metadata": {},
   "outputs": [],
   "source": [
    "#Q1"
   ]
  },
  {
   "cell_type": "code",
   "execution_count": 2,
   "id": "7a677738-ae91-41f3-9950-3d4f5c28dea0",
   "metadata": {},
   "outputs": [
    {
     "name": "stdout",
     "output_type": "stream",
     "text": [
      "1 2 3 4 5 6 7 8 9 10 "
     ]
    }
   ],
   "source": [
    "for i in range(1,11):\n",
    "\n",
    "    print(i, end = \" \")"
   ]
  },
  {
   "cell_type": "code",
   "execution_count": 4,
   "id": "6c525fbd-3997-4309-a61e-6b6d7bf9c823",
   "metadata": {},
   "outputs": [],
   "source": [
    "#Q2"
   ]
  },
  {
   "cell_type": "code",
   "execution_count": null,
   "id": "be8d3150-a26e-4a41-92f8-45acc955dd96",
   "metadata": {},
   "outputs": [],
   "source": [
    "l = [1,2,3,4,5]\n",
    "\n",
    "sum = 0\n",
    "\n",
    "\n",
    "\n",
    "for i in l:\n",
    "\n",
    "    sum += i\n",
    "\n",
    "\n",
    "\n",
    "print(sum)"
   ]
  },
  {
   "cell_type": "code",
   "execution_count": null,
   "id": "40b0749c-8b4a-4312-bbed-805fbc37bdc6",
   "metadata": {},
   "outputs": [],
   "source": [
    "#Q3"
   ]
  },
  {
   "cell_type": "code",
   "execution_count": null,
   "id": "66f07012-ce01-4895-918d-dd0174dd2fde",
   "metadata": {},
   "outputs": [],
   "source": [
    "s = \"Hello, This is my String. Please, reverse it\"\n",
    "\n",
    "\n",
    "\n",
    "for char in s[::-1]:\n",
    "\n",
    "    print(char, end=\"\")"
   ]
  },
  {
   "cell_type": "code",
   "execution_count": null,
   "id": "e8ea2d67-cacd-4675-958d-d0a25b175c5e",
   "metadata": {},
   "outputs": [],
   "source": [
    "#Q4"
   ]
  },
  {
   "cell_type": "code",
   "execution_count": null,
   "id": "c52529c4-aef6-4d5e-99ce-69a576678ff2",
   "metadata": {},
   "outputs": [],
   "source": [
    "num = 0\n",
    "\n",
    "fact = 1\n",
    "\n",
    "\n",
    "\n",
    "for i in range(1,num+1):\n",
    "\n",
    "    fact *= i\n",
    "\n",
    "\n",
    "\n",
    "print(fact)"
   ]
  },
  {
   "cell_type": "code",
   "execution_count": null,
   "id": "9c12f122-4ea4-4aa5-a845-689050fcdfb7",
   "metadata": {},
   "outputs": [],
   "source": [
    "#Q5"
   ]
  },
  {
   "cell_type": "code",
   "execution_count": null,
   "id": "a93dce9d-5814-4913-9226-cc4d31a67cbf",
   "metadata": {},
   "outputs": [],
   "source": [
    "num = 8\n",
    "\n",
    "\n",
    "\n",
    "for i in range(1,11):\n",
    "\n",
    "    print(f\"{num} * {i} = {num*i}\")"
   ]
  },
  {
   "cell_type": "code",
   "execution_count": null,
   "id": "99e67b22-f31e-44a2-8bf9-63c3fc7a8be7",
   "metadata": {},
   "outputs": [],
   "source": [
    "#Q6"
   ]
  },
  {
   "cell_type": "code",
   "execution_count": null,
   "id": "a47edc0a-69d7-4add-971a-1bf0e2551b21",
   "metadata": {},
   "outputs": [],
   "source": [
    "l = [1,2,3,4,5]\n",
    "\n",
    "even_count, odd_count = 0,0\n",
    "\n",
    "\n",
    "\n",
    "for i in l:\n",
    "\n",
    "    if(i % 2) == 0:\n",
    "\n",
    "        even_count += 1\n",
    "\n",
    "    else:\n",
    "\n",
    "        odd_count += 1\n",
    "\n",
    "\n",
    "\n",
    "print(f\"Even Count = {even_count}\")\n",
    "\n",
    "print(f\"Odd Count = {odd_count}\")"
   ]
  },
  {
   "cell_type": "code",
   "execution_count": null,
   "id": "7e0ebe02-c798-4a34-a77c-36c194bbedfd",
   "metadata": {},
   "outputs": [],
   "source": [
    "#Q7"
   ]
  },
  {
   "cell_type": "code",
   "execution_count": null,
   "id": "4bd2f5a6-a9b6-4244-aee2-c2600f723198",
   "metadata": {},
   "outputs": [],
   "source": [
    "for i in range(1,6):\n",
    "\n",
    "    print(f\"Sqaure of {i} = {i*i}\")"
   ]
  },
  {
   "cell_type": "code",
   "execution_count": null,
   "id": "edd1a890-be8a-46e0-817e-32cbdd24117f",
   "metadata": {},
   "outputs": [],
   "source": [
    "#Q8"
   ]
  },
  {
   "cell_type": "code",
   "execution_count": null,
   "id": "58e5f3e1-6c31-4907-a76c-fdc1c8c2a095",
   "metadata": {},
   "outputs": [],
   "source": [
    "s = \"Hello, This is my String. Please, reverse it\"\n",
    "\n",
    "# s = \"hello\"\n",
    "\n",
    "\n",
    "\n",
    "count = 0\n",
    "\n",
    "for char in s:\n",
    "\n",
    "    count += 1\n",
    "\n",
    "print(\"The length of the string is:\", count)"
   ]
  },
  {
   "cell_type": "code",
   "execution_count": null,
   "id": "bf841f36-e4cc-4de9-b634-bc0f714f1364",
   "metadata": {},
   "outputs": [],
   "source": [
    "#Q9"
   ]
  },
  {
   "cell_type": "code",
   "execution_count": null,
   "id": "47c3150d-bf2f-46f3-8f1c-1d3e249489fa",
   "metadata": {},
   "outputs": [],
   "source": [
    "l = [1,2,3,4,5]\n",
    "\n",
    "\n",
    "\n",
    "sum = 0\n",
    "\n",
    "len = len(l)\n",
    "\n",
    "\n",
    "\n",
    "for i in l:\n",
    "\n",
    "    sum += i\n",
    "\n",
    "\n",
    "\n",
    "print(f\"Average of List {l} = {sum//len}\")\n",
    "\n",
    "print(f\"Average of List {l} = {sum/len}\")"
   ]
  },
  {
   "cell_type": "code",
   "execution_count": null,
   "id": "a68d7df6-6b95-47df-9518-956ddea8f5fb",
   "metadata": {},
   "outputs": [],
   "source": [
    "#Q10"
   ]
  },
  {
   "cell_type": "code",
   "execution_count": null,
   "id": "c6845b72-67cc-4df0-b242-502ba0bcd890",
   "metadata": {},
   "outputs": [],
   "source": [
    " \n",
    "\n",
    "a = 0\n",
    "\n",
    "b = 1\n",
    "\n",
    " \n",
    "\n",
    "n = int(input(\"Enter Length of the Fibonacci Series: \"))\n",
    "\n",
    "\n",
    "\n",
    "for i in range(1, n+1):\n",
    "\n",
    "    print(a, end=\" \")\n",
    "\n",
    "    # print(b, end=\" \")\n",
    "\n",
    "\n",
    "\n",
    "    new_num = a + b\n",
    "\n",
    "\n",
    "\n",
    "    a = b\n",
    "\n",
    "    b = new_num\n",
    "\n",
    "\n",
    "\n",
    "    # b = a + b"
   ]
  },
  {
   "cell_type": "code",
   "execution_count": null,
   "id": "d8f9f51f-e19b-4306-b8ef-98c906ca2b98",
   "metadata": {},
   "outputs": [],
   "source": [
    "#Q11"
   ]
  },
  {
   "cell_type": "code",
   "execution_count": null,
   "id": "51415cff-1ef0-4c16-b024-41c9246a4e32",
   "metadata": {},
   "outputs": [],
   "source": [
    "mylist = [1, 2, 3, 4, 5, 1, 2, 3]\n",
    "\n",
    "flag = False\n",
    "\n",
    "\n",
    "\n",
    "for i in range(0,len(mylist)-1):\n",
    "\n",
    "    for j in range(i+1,len(mylist)-1):\n",
    "\n",
    "        if(mylist[i] == mylist[j]):\n",
    "\n",
    "            flag = True\n",
    "\n",
    "            break\n",
    "\n",
    "\n",
    "\n",
    "    if flag:\n",
    "\n",
    "        break\n",
    "\n",
    "\n",
    "\n",
    "if flag:\n",
    "\n",
    "    print(\"Your List contains duplicates\")\n",
    "\n",
    "else:\n",
    "\n",
    "    print(\"Your List does not contain duplicates\")"
   ]
  },
  {
   "cell_type": "code",
   "execution_count": null,
   "id": "72e83b2b-f4a5-4d53-a952-34098ff35009",
   "metadata": {},
   "outputs": [],
   "source": [
    "#Q12"
   ]
  },
  {
   "cell_type": "code",
   "execution_count": null,
   "id": "5a569f1e-63ce-43fa-922a-797e5381431d",
   "metadata": {},
   "outputs": [],
   "source": [
    "import math\n",
    "\n",
    "\n",
    "\n",
    "n = int(input(\"Enter a number: \"))\n",
    "\n",
    "\n",
    "\n",
    "for i in range(1, n+1):\n",
    "\n",
    "\n",
    "\n",
    "    flag = True\n",
    "\n",
    "    for j in range(2, int(math.sqrt(i))+1):\n",
    "\n",
    "        # print(f\"{i} ------- {j}\")\n",
    "\n",
    "        if((i % j) == 0):\n",
    "\n",
    "            flag = False\n",
    "\n",
    "            break\n",
    "\n",
    "\n",
    "\n",
    "    if flag:\n",
    "\n",
    "        print(f\"{i} is a Prime Number\")\n",
    "\n",
    "        flag = True"
   ]
  },
  {
   "cell_type": "code",
   "execution_count": null,
   "id": "ab603330-522f-43e4-a385-01bff5f57c35",
   "metadata": {},
   "outputs": [],
   "source": [
    "#Q13"
   ]
  },
  {
   "cell_type": "code",
   "execution_count": null,
   "id": "d3725ebd-2559-4edd-bcad-f0b75f77220c",
   "metadata": {},
   "outputs": [],
   "source": [
    "s = \"Hello, This is my String. Please, find the count of vowels in it\"\n",
    "\n",
    "count = 0\n",
    "\n",
    "\n",
    "\n",
    "for char in s:\n",
    "\n",
    "    if char.lower() in ('a','e','i','o','u'):\n",
    "\n",
    "        count += 1\n",
    "\n",
    "\n",
    "\n",
    "print(count)"
   ]
  },
  {
   "cell_type": "code",
   "execution_count": null,
   "id": "77f9d46d-16f1-43ef-aae2-67fd21f1e7e1",
   "metadata": {},
   "outputs": [],
   "source": [
    "#Q14"
   ]
  },
  {
   "cell_type": "code",
   "execution_count": null,
   "id": "4192dcd2-12ac-498c-9162-bb5cad5f5e85",
   "metadata": {},
   "outputs": [],
   "source": [
    "import sys\n",
    "\n",
    "\n",
    "\n",
    "lists = [[1, 2, 3], [4, 5, 6], [7, 8, 9]]\n",
    "\n",
    "max = -sys.maxsize - 1\n",
    "\n",
    "# print(max)\n",
    "\n",
    "\n",
    "\n",
    "for list in lists:\n",
    "\n",
    "    for i in list:\n",
    "\n",
    "        if(i > max):\n",
    "\n",
    "            max = i\n",
    "\n",
    "\n",
    "\n",
    "print(f\"Max Value is : {max}\")\n",
    "\n",
    " "
   ]
  },
  {
   "cell_type": "code",
   "execution_count": null,
   "id": "877b3cd6-abd4-419a-b13c-8c82d77ea326",
   "metadata": {},
   "outputs": [],
   "source": [
    "#Q15"
   ]
  },
  {
   "cell_type": "code",
   "execution_count": null,
   "id": "f78189ee-9110-42ff-a3dd-cd722aae7682",
   "metadata": {},
   "outputs": [],
   "source": [
    "list1 = [1, 2, 3, 4, 1, 1, 1, 4, 5]\n",
    "\n",
    "\n",
    "\n",
    "# looping till all 1's are removed\n",
    "\n",
    "while (list1.count(1)):\n",
    "\n",
    "    list1.remove(1)\n",
    "\n",
    "\n",
    "\n",
    "print(list1)"
   ]
  },
  {
   "cell_type": "code",
   "execution_count": null,
   "id": "4addf786-d4f7-4ace-8fa3-7d0191d4a47b",
   "metadata": {},
   "outputs": [],
   "source": [
    "#Q16"
   ]
  },
  {
   "cell_type": "code",
   "execution_count": null,
   "id": "9131b36c-b855-4bca-9046-5080b1e3c81c",
   "metadata": {},
   "outputs": [],
   "source": [
    "\n",
    "\n",
    "for i in range(1,6):\n",
    "\n",
    "    print(f\"Table of {i} : \")\n",
    "\n",
    "    for j in range(1,11):\n",
    "\n",
    "\n",
    "\n",
    "        print(f\"{i} * {j} = {i*j}\")"
   ]
  },
  {
   "cell_type": "code",
   "execution_count": null,
   "id": "2a9f7a5a-c9f1-4f69-8ab3-3d9af81d12b8",
   "metadata": {},
   "outputs": [],
   "source": [
    "#Q17"
   ]
  },
  {
   "cell_type": "code",
   "execution_count": null,
   "id": "906a0cee-b393-4d9f-9df8-aec214d6d368",
   "metadata": {},
   "outputs": [],
   "source": [
    "list = [10, 20, 30, 40, 50]\n",
    "\n",
    "\n",
    "\n",
    "for fah in list:\n",
    "\n",
    "    cel = (fah - 32.0) * 5.0 / 9.0\n",
    "\n",
    "    print(f\"Temperature in Fahrenheit '{fah}' is equal to '{cel}' in Celsius\")"
   ]
  },
  {
   "cell_type": "code",
   "execution_count": null,
   "id": "3faba053-8f46-4d52-8798-86bca630f5e4",
   "metadata": {},
   "outputs": [],
   "source": [
    "#Q18"
   ]
  },
  {
   "cell_type": "code",
   "execution_count": null,
   "id": "269d8038-836f-4f36-8f80-45ff3a3e41e4",
   "metadata": {},
   "outputs": [],
   "source": [
    "a = [1, 2, 3, 4, 5]\n",
    "\n",
    "b = [5, 6, 7, 8, 9]\n",
    "\n",
    "\n",
    "\n",
    "for i in a:\n",
    "\n",
    "    for j in b:\n",
    "\n",
    "        if(i == j):\n",
    "\n",
    "            print(i, end=\" \")"
   ]
  },
  {
   "cell_type": "code",
   "execution_count": null,
   "id": "79f2e43a-0c0a-4558-8c1c-f9293fe111ce",
   "metadata": {},
   "outputs": [],
   "source": [
    "#Q19"
   ]
  },
  {
   "cell_type": "code",
   "execution_count": null,
   "id": "96eceae5-1d5c-4991-a170-c3a74818224b",
   "metadata": {},
   "outputs": [],
   "source": [
    "for i in range(1,6):\n",
    "\n",
    "    for j in range(0,i):\n",
    "\n",
    "        print(\"*\", end=\" \")\n",
    "\n",
    "    print()"
   ]
  },
  {
   "cell_type": "code",
   "execution_count": null,
   "id": "a0786e62-2ab7-43e3-b7bc-7e3e3cf0fc74",
   "metadata": {},
   "outputs": [],
   "source": [
    "#Q20"
   ]
  },
  {
   "cell_type": "code",
   "execution_count": null,
   "id": "7c9935c0-8566-4242-90d5-1d8eb48669e7",
   "metadata": {},
   "outputs": [],
   "source": [
    "p = 48\n",
    "\n",
    "q = 60\n",
    "\n",
    "\n",
    "\n",
    "for i in range (1, min(p,q) + 1):\n",
    "\n",
    "            if i <= min(p,q):\n",
    "\n",
    "                            if p % i == 0 and q % i == 0:\n",
    "\n",
    "                                            g = i\n",
    "\n",
    "\n",
    "\n",
    "print(g)"
   ]
  },
  {
   "cell_type": "code",
   "execution_count": null,
   "id": "d49644f0-f751-4c43-a4b8-9df5ed573cc1",
   "metadata": {},
   "outputs": [],
   "source": [
    "#Q21"
   ]
  },
  {
   "cell_type": "code",
   "execution_count": null,
   "id": "d99d2cfa-b79f-4276-8e0d-0943bd7214c2",
   "metadata": {},
   "outputs": [],
   "source": [
    "def digits_sum(n):\n",
    "\n",
    "            sum = 0\n",
    "\n",
    "            while(n>0):\n",
    "\n",
    "                            sum += n%10\n",
    "\n",
    "                            n //= 10\n",
    "\n",
    "            return sum\n",
    "\n",
    "\n",
    "\n",
    "my_list = [34,63,75,86,343,75,72,98,23,46]\n",
    "\n",
    "\n",
    "\n",
    "new_list = [digits_sum(i) for i in my_list]\n",
    "\n",
    "\n",
    "\n",
    "print(new_list)"
   ]
  },
  {
   "cell_type": "code",
   "execution_count": 5,
   "id": "00839239-afda-4de2-a9c8-0253e981d400",
   "metadata": {},
   "outputs": [],
   "source": [
    "#Q22"
   ]
  },
  {
   "cell_type": "code",
   "execution_count": null,
   "id": "fcc47c2d-b0ec-4cec-b0bd-7e05b2a3a345",
   "metadata": {},
   "outputs": [],
   "source": []
  },
  {
   "cell_type": "code",
   "execution_count": null,
   "id": "84cb4976-216a-48d0-90be-75be1bc7e522",
   "metadata": {},
   "outputs": [],
   "source": [
    "#Q23"
   ]
  },
  {
   "cell_type": "code",
   "execution_count": null,
   "id": "aeddcadb-0196-4e2e-8723-5a21e220761b",
   "metadata": {},
   "outputs": [],
   "source": [
    "def is_unique(n,set):\n",
    "\n",
    "            if n not in set:\n",
    "\n",
    "                            set.add(n)\n",
    "\n",
    "                            return True\n",
    "\n",
    "            return False\n",
    "\n",
    "\n",
    "\n",
    "list1 = [1, 2, 3, 4, 1, 1, 1, 4, 5]\n",
    "\n",
    "set_for_list = set()\n",
    "\n",
    "\n",
    "\n",
    "new_list = [ i for i in list1 if is_unique(i,set_for_list)]\n",
    "\n",
    "\n",
    "\n",
    "print(new_list)"
   ]
  },
  {
   "cell_type": "code",
   "execution_count": 6,
   "id": "2f66af4d-5d4d-4c39-b381-87dddaff3bb1",
   "metadata": {},
   "outputs": [],
   "source": [
    "#Q24"
   ]
  },
  {
   "cell_type": "code",
   "execution_count": null,
   "id": "99fabaff-9c5f-43c2-b923-a730515367ec",
   "metadata": {},
   "outputs": [],
   "source": []
  },
  {
   "cell_type": "code",
   "execution_count": null,
   "id": "63f64cab-b2d5-4652-ab46-99002189b35d",
   "metadata": {},
   "outputs": [],
   "source": [
    "#Q25"
   ]
  },
  {
   "cell_type": "code",
   "execution_count": null,
   "id": "8547b7d7-36ba-4886-a691-0229428617b2",
   "metadata": {},
   "outputs": [],
   "source": [
    "lists = [[1, 2, 3], [4, 5, 6], [7, 8, 9]]\n",
    "\n",
    "\n",
    "\n",
    "new_list = [ele  for list in lists for ele in list]\n",
    "\n",
    "\n",
    "\n",
    "print(new_list)"
   ]
  },
  {
   "cell_type": "code",
   "execution_count": 7,
   "id": "12bb5605-1cf8-47d7-9ea3-561bae901801",
   "metadata": {},
   "outputs": [],
   "source": [
    "#Q26"
   ]
  },
  {
   "cell_type": "code",
   "execution_count": null,
   "id": "6148911e-eb57-4975-a581-81faf92f8423",
   "metadata": {},
   "outputs": [],
   "source": []
  },
  {
   "cell_type": "code",
   "execution_count": 8,
   "id": "f0dfe045-f217-453b-8dcc-8de5a668b296",
   "metadata": {},
   "outputs": [],
   "source": [
    "#Q27"
   ]
  },
  {
   "cell_type": "code",
   "execution_count": null,
   "id": "dce520a6-e664-4e14-9bd9-fb3e66153c1f",
   "metadata": {},
   "outputs": [],
   "source": [
    "new_list = [i*i   for i in range(1,11) if(i%2 == 1)]\n",
    "\n",
    "\n",
    "\n",
    "print(new_list)"
   ]
  },
  {
   "cell_type": "code",
   "execution_count": 9,
   "id": "a60469ec-6fc9-4b5d-b76f-bb335ae6bac5",
   "metadata": {},
   "outputs": [],
   "source": [
    "#Q28"
   ]
  },
  {
   "cell_type": "code",
   "execution_count": null,
   "id": "e19a35e5-7c89-4e83-a51f-0f2bfd58fd6b",
   "metadata": {},
   "outputs": [],
   "source": [
    "https://stackoverflow.com/questions/58673566/list-comprehension-iterating-over-multiple-iterables\n",
    "\n",
    " \n",
    "\n",
    "test_keys = [\"Rash\", \"Kil\", \"Varsha\"]\n",
    "\n",
    "test_values = [1, 4, 5]\n",
    "\n",
    "\n",
    "\n",
    "new_list = [ [key, value] for [key, value] in [test_keys, test_values]]\n",
    "\n",
    "\n",
    "\n",
    "print(new_list)\n",
    "\n",
    " \n",
    "\n",
    "big_list = [[letter, number, letter_number] for [letter, number, letter_number] in [letters, numbers, letters_numbers]]"
   ]
  },
  {
   "cell_type": "code",
   "execution_count": null,
   "id": "7a92ba98-c830-41a6-abd5-0faaeb83bdea",
   "metadata": {},
   "outputs": [],
   "source": [
    "#Q29"
   ]
  },
  {
   "cell_type": "code",
   "execution_count": null,
   "id": "567f62b3-e2e5-4519-83ff-97538cd2a467",
   "metadata": {},
   "outputs": [],
   "source": [
    "s = \"Hello, This is my String. Please, find the vowels in it and extract them all in a list\"\n",
    "\n",
    "\n",
    "\n",
    "new_list = [char for char in s if char.lower() in ('a','e','i','o','u')]\n",
    "\n",
    "\n",
    "\n",
    "print(new_list)"
   ]
  },
  {
   "cell_type": "code",
   "execution_count": 10,
   "id": "cd9efb0a-cd48-461d-af73-ab520442f913",
   "metadata": {},
   "outputs": [],
   "source": [
    "#Q30"
   ]
  },
  {
   "cell_type": "code",
   "execution_count": null,
   "id": "d1f1fa35-ff15-431d-bca0-3b7b13a5b929",
   "metadata": {},
   "outputs": [],
   "source": [
    "import string\n",
    "\n",
    "import random\n",
    "\n",
    "\n",
    "\n",
    "def generate_random_string(length):\n",
    "\n",
    "    \"\"\"Generate a random string of alphanumeric characters.\"\"\"\n",
    "\n",
    "    return ''.join(random.choices(string.ascii_letters + string.digits, k=length))\n",
    "\n",
    "\n",
    "\n",
    "# Generate a list of 10 random strings with 8 characters each\n",
    "\n",
    "my_list = [generate_random_string(8) for _ in range(10)]\n",
    "\n",
    "print(my_list)\n",
    "\n",
    " \n",
    "\n",
    "def remove_nums(str):\n",
    "\n",
    "    new_str = ''\n",
    "\n",
    "    for char in str:\n",
    "\n",
    "        if char.isalpha():\n",
    "\n",
    "            new_str += char\n",
    "\n",
    "\n",
    "\n",
    "    return new_str\n",
    "\n",
    "\n",
    "\n",
    "list = ['9yBZr2UR', 'SjaoKBDh', '3DMQdVFz', 'P4h6q6qL', 'iYCE32Y0', 'cZ8MRJ08', 'K4Pf5SlP', 'DQnAIkCN', 'LFM2jrvX', 'hCiPEeeq']\n",
    "\n",
    "\n",
    "\n",
    "\n",
    "\n",
    "new_list = [remove_nums(str)  for str in list]\n",
    "\n",
    "\n",
    "\n",
    "print(new_list)"
   ]
  },
  {
   "cell_type": "code",
   "execution_count": null,
   "id": "2a96c72c-81ac-4a65-83e2-3e51040a457e",
   "metadata": {},
   "outputs": [],
   "source": []
  }
 ],
 "metadata": {
  "kernelspec": {
   "display_name": "Python 3 (ipykernel)",
   "language": "python",
   "name": "python3"
  },
  "language_info": {
   "codemirror_mode": {
    "name": "ipython",
    "version": 3
   },
   "file_extension": ".py",
   "mimetype": "text/x-python",
   "name": "python",
   "nbconvert_exporter": "python",
   "pygments_lexer": "ipython3",
   "version": "3.11.4"
  }
 },
 "nbformat": 4,
 "nbformat_minor": 5
}
